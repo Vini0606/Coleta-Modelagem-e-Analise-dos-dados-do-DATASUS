{
 "cells": [
  {
   "cell_type": "markdown",
   "id": "fd59af18",
   "metadata": {},
   "source": [
    "# Bibliotecas"
   ]
  },
  {
   "cell_type": "code",
   "execution_count": 4,
   "id": "07dec1dd",
   "metadata": {
    "collapsed": true
   },
   "outputs": [
    {
     "name": "stdout",
     "output_type": "stream",
     "text": [
      "Defaulting to user installation because normal site-packages is not writeable\n",
      "Requirement already satisfied: selenium in c:\\users\\2222120010\\appdata\\roaming\\python\\python311\\site-packages (4.18.1)\n",
      "Requirement already satisfied: urllib3[socks]<3,>=1.26 in c:\\tools\\anaconda3\\lib\\site-packages (from selenium) (1.26.16)\n",
      "Requirement already satisfied: trio~=0.17 in c:\\users\\2222120010\\appdata\\roaming\\python\\python311\\site-packages (from selenium) (0.24.0)\n",
      "Requirement already satisfied: trio-websocket~=0.9 in c:\\users\\2222120010\\appdata\\roaming\\python\\python311\\site-packages (from selenium) (0.11.1)\n",
      "Requirement already satisfied: certifi>=2021.10.8 in c:\\tools\\anaconda3\\lib\\site-packages (from selenium) (2023.7.22)\n",
      "Requirement already satisfied: typing_extensions>=4.9.0 in c:\\users\\2222120010\\appdata\\roaming\\python\\python311\\site-packages (from selenium) (4.10.0)\n",
      "Requirement already satisfied: attrs>=20.1.0 in c:\\tools\\anaconda3\\lib\\site-packages (from trio~=0.17->selenium) (22.1.0)\n",
      "Requirement already satisfied: sortedcontainers in c:\\tools\\anaconda3\\lib\\site-packages (from trio~=0.17->selenium) (2.4.0)\n",
      "Requirement already satisfied: idna in c:\\tools\\anaconda3\\lib\\site-packages (from trio~=0.17->selenium) (3.4)\n",
      "Requirement already satisfied: outcome in c:\\users\\2222120010\\appdata\\roaming\\python\\python311\\site-packages (from trio~=0.17->selenium) (1.3.0.post0)\n",
      "Requirement already satisfied: sniffio>=1.3.0 in c:\\users\\2222120010\\appdata\\roaming\\python\\python311\\site-packages (from trio~=0.17->selenium) (1.3.1)\n",
      "Requirement already satisfied: cffi>=1.14 in c:\\tools\\anaconda3\\lib\\site-packages (from trio~=0.17->selenium) (1.15.1)\n",
      "Requirement already satisfied: wsproto>=0.14 in c:\\users\\2222120010\\appdata\\roaming\\python\\python311\\site-packages (from trio-websocket~=0.9->selenium) (1.2.0)\n",
      "Requirement already satisfied: PySocks!=1.5.7,<2.0,>=1.5.6 in c:\\tools\\anaconda3\\lib\\site-packages (from urllib3[socks]<3,>=1.26->selenium) (1.7.1)\n",
      "Requirement already satisfied: pycparser in c:\\tools\\anaconda3\\lib\\site-packages (from cffi>=1.14->trio~=0.17->selenium) (2.21)\n",
      "Requirement already satisfied: h11<1,>=0.9.0 in c:\\users\\2222120010\\appdata\\roaming\\python\\python311\\site-packages (from wsproto>=0.14->trio-websocket~=0.9->selenium) (0.14.0)\n",
      "Note: you may need to restart the kernel to use updated packages.\n"
     ]
    }
   ],
   "source": [
    "pip install selenium"
   ]
  },
  {
   "cell_type": "code",
   "execution_count": 2,
   "id": "36e4f3c1",
   "metadata": {},
   "outputs": [],
   "source": [
    "import pandas as pd"
   ]
  },
  {
   "cell_type": "code",
   "execution_count": 1,
   "id": "e9a5dc68",
   "metadata": {},
   "outputs": [],
   "source": [
    "from selenium import webdriver\n",
    "from selenium.webdriver.chrome.service import Service\n",
    "from selenium.webdriver.common.by import By"
   ]
  },
  {
   "cell_type": "markdown",
   "id": "5f1235ed",
   "metadata": {},
   "source": [
    "# Criando um Navegador "
   ]
  },
  {
   "cell_type": "code",
   "execution_count": 5,
   "id": "5d509f55",
   "metadata": {},
   "outputs": [],
   "source": [
    "service = Service()\n",
    "\n",
    "options = webdriver.ChromeOptions()\n",
    "\n",
    "driver = webdriver.Chrome(service=service, options=options)"
   ]
  },
  {
   "cell_type": "markdown",
   "id": "dcfdc77f",
   "metadata": {},
   "source": [
    "# Navegando até o site do DataSUS"
   ]
  },
  {
   "cell_type": "markdown",
   "id": "83a58d51",
   "metadata": {},
   "source": [
    "Entrar na Página "
   ]
  },
  {
   "cell_type": "code",
   "execution_count": 6,
   "id": "1f74be3e",
   "metadata": {},
   "outputs": [],
   "source": [
    "url = 'http://tabnet.datasus.gov.br/cgi/deftohtm.exe?sih/cnv/spabr.def'\n",
    "\n",
    "driver.get(url)"
   ]
  },
  {
   "cell_type": "markdown",
   "id": "10f7fd4e",
   "metadata": {},
   "source": [
    "Selecionar em \"Coluna\" a opção \"Grupo Procedimento\""
   ]
  },
  {
   "cell_type": "code",
   "execution_count": 9,
   "id": "1f6b2fc2",
   "metadata": {},
   "outputs": [],
   "source": [
    "driver.find_element(By.XPATH, '//*[@id=\"C\"]/option[7]').click()"
   ]
  },
  {
   "cell_type": "markdown",
   "id": "1dda77ef",
   "metadata": {},
   "source": [
    "Clicar em \"Mostrar\""
   ]
  },
  {
   "cell_type": "code",
   "execution_count": 10,
   "id": "3b082fb4",
   "metadata": {},
   "outputs": [],
   "source": [
    "driver.find_element(By.XPATH, '/html/body/div/div/center/div/form/div[4]/div[2]/div[2]/input[1]').click()"
   ]
  },
  {
   "cell_type": "markdown",
   "id": "3306af23",
   "metadata": {},
   "source": [
    "Navegar até a outra aba"
   ]
  },
  {
   "cell_type": "code",
   "execution_count": 22,
   "id": "7a736115",
   "metadata": {},
   "outputs": [],
   "source": [
    "janelas_abertas = driver.window_handles"
   ]
  },
  {
   "cell_type": "code",
   "execution_count": 23,
   "id": "f4d39b7e",
   "metadata": {},
   "outputs": [],
   "source": [
    "driver.switch_to.window(janelas_abertas[0])"
   ]
  },
  {
   "cell_type": "markdown",
   "id": "b23153a0",
   "metadata": {},
   "source": [
    "Clicar em \"COPIA COMO .CSV\""
   ]
  },
  {
   "cell_type": "code",
   "execution_count": 17,
   "id": "1d7e6e7f",
   "metadata": {},
   "outputs": [],
   "source": [
    "driver.find_element(By.XPATH, '/html/body/div/div/div[3]/table/tbody/tr/td[1]/a').click()"
   ]
  },
  {
   "cell_type": "markdown",
   "id": "22f28a62",
   "metadata": {},
   "source": [
    "Pegar Todos os Anos onde \"Conteúdo\" é igual a \"Quantidade Aprovada\""
   ]
  },
  {
   "cell_type": "code",
   "execution_count": 27,
   "id": "15dd02b5",
   "metadata": {
    "collapsed": true
   },
   "outputs": [
    {
     "name": "stdout",
     "output_type": "stream",
     "text": [
      "1\n"
     ]
    },
    {
     "ename": "AttributeError",
     "evalue": "'WebElement' object has no attribute 'value'",
     "output_type": "error",
     "traceback": [
      "\u001b[1;31m---------------------------------------------------------------------------\u001b[0m",
      "\u001b[1;31mAttributeError\u001b[0m                            Traceback (most recent call last)",
      "Cell \u001b[1;32mIn[27], line 3\u001b[0m\n\u001b[0;32m      1\u001b[0m \u001b[38;5;28;01mfor\u001b[39;00m row \u001b[38;5;129;01min\u001b[39;00m \u001b[38;5;28mrange\u001b[39m(\u001b[38;5;241m192\u001b[39m):\n\u001b[0;32m      2\u001b[0m     \u001b[38;5;28mprint\u001b[39m(row\u001b[38;5;241m+\u001b[39m\u001b[38;5;241m1\u001b[39m)\n\u001b[1;32m----> 3\u001b[0m     \u001b[38;5;28mprint\u001b[39m(driver\u001b[38;5;241m.\u001b[39mfind_element(By\u001b[38;5;241m.\u001b[39mXPATH, \u001b[38;5;124mf\u001b[39m\u001b[38;5;124m'\u001b[39m\u001b[38;5;124m/html/body/div/div/center/div/form/div[3]/div/select/option[\u001b[39m\u001b[38;5;132;01m{\u001b[39;00mrow\u001b[38;5;241m+\u001b[39m\u001b[38;5;241m1\u001b[39m\u001b[38;5;132;01m}\u001b[39;00m\u001b[38;5;124m]\u001b[39m\u001b[38;5;124m'\u001b[39m)\u001b[38;5;241m.\u001b[39mvalue())\n",
      "\u001b[1;31mAttributeError\u001b[0m: 'WebElement' object has no attribute 'value'"
     ]
    }
   ],
   "source": [
    "for row in range(192):\n",
    "    driver.find_element(By.XPATH, f'/html/body/div/div/center/div/form/div[3]/div/select/option[{row+1}]').click()\n",
    "    driver.find_element(By.XPATH, '/html/body/div/div/center/div/form/div[4]/div[2]/div[2]/input[1]').click()\n",
    "    "
   ]
  },
  {
   "cell_type": "code",
   "execution_count": null,
   "id": "81e101cb",
   "metadata": {},
   "outputs": [
    {
     "name": "stdout",
     "output_type": "stream",
     "text": [
      "TOTAL,539\n",
      "110001 ALTA FLORESTA D'OESTE,-\n",
      "110004 CACOAL,-\n",
      "110006 COLORADO DO OESTE,-\n",
      "110009 ESPIGAO D'OESTE,-\n",
      "110011 JARU,-\n",
      "110013 MACHADINHO D'OESTE,-\n",
      "110014 NOVA BRASILANDIA D'OESTE,-\n",
      "110015 OURO PRETO DO OESTE,-\n",
      "110018 PIMENTA BUENO,-\n",
      "110020 PORTO VELHO,-\n",
      "110029 SANTA LUZIA D'OESTE,-\n",
      "110030 VILHENA,-\n",
      "110032 SAO MIGUEL DO GUAPORE,-\n",
      "110033 NOVA MAMORE,-\n",
      "110037 ALTO ALEGRE DOS PARECIS,-\n",
      "110040 ALTO PARAISO,-\n",
      "110070 CAMPO NOVO DE RONDONIA,-\n",
      "110120 MINISTRO ANDREAZZA,-\n",
      "110140 MONTE NEGRO,-\n",
      "110143 NOVA UNIAO,-\n",
      "110146 PIMENTEIRAS DO OESTE,-\n",
      "110148 SAO FELIPE D'OESTE,-\n",
      "110150 SERINGUEIRAS,-\n",
      "110155 TEIXEIROPOLIS,-\n",
      "110160 THEOBROMA,-\n",
      "110170 URUPA,-\n",
      "130002 ALVARAES,-\n",
      "130006 AMATURA,-\n",
      "130008 ANAMA,-\n",
      "130010 ANORI,-\n",
      "130020 ATALAIA DO NORTE,-\n",
      "130040 BARCELOS,-\n",
      "130050 BARREIRINHA,-\n",
      "130068 BOA VISTA DO RAMOS,-\n",
      "130070 BOCA DO ACRE,-\n",
      "130083 CAAPIRANGA,-\n",
      "130100 CARAUARI,-\n",
      "130110 CAREIRO,-\n",
      "130120 COARI,-\n",
      "130130 CODAJAS,-\n",
      "130140 EIRUNEPE,-\n",
      "130150 ENVIRA,-\n",
      "130165 GUAJARA,-\n",
      "130200 ITAPIRANGA,-\n",
      "130210 JAPURA,-\n",
      "130240 LABREA,-\n",
      "130250 MANACAPURU,-\n",
      "130255 MANAQUIRI,-\n",
      "130260 MANAUS,-\n",
      "130270 MANICORE,-\n",
      "130290 MAUES,-\n",
      "130310 NOVA OLINDA DO NORTE,-\n",
      "130320 NOVO AIRAO,-\n",
      "130330 NOVO ARIPUANA,-\n",
      "130340 PARINTINS,-\n",
      "130353 PRESIDENTE FIGUEIREDO,-\n",
      "130356 RIO PRETO DA EVA,-\n",
      "130370 SANTO ANTONIO DO ICA,-\n",
      "130390 SAO PAULO DE OLIVENCA,-\n",
      "130395 SAO SEBASTIAO DO UATUMA,-\n",
      "130400 SILVES,-\n",
      "130406 TABATINGA,-\n",
      "130420 TEFE,-\n",
      "140005 ALTO ALEGRE,-\n",
      "140010 BOA VISTA,-\n",
      "140015 BONFIM,-\n",
      "140020 CARACARAI,-\n",
      "140023 CAROEBE,-\n",
      "140040 NORMANDIA,-\n",
      "140045 PACARAIMA,-\n",
      "140047 RORAINOPOLIS,-\n",
      "150020 ACARA,-\n",
      "150034 AGUA AZUL DO NORTE,-\n",
      "150050 ALMEIRIM,-\n",
      "150060 ALTAMIRA,-\n",
      "150080 ANANINDEUA,-\n",
      "150095 AURORA DO PARA,-\n",
      "150120 BAIAO,-\n",
      "150125 BANNACH,-\n",
      "150130 BARCARENA,-\n",
      "150140 BELEM,-\n",
      "150172 BRASIL NOVO,-\n",
      "150230 CAPITAO POCO,-\n",
      "150240 CASTANHAL,19\n",
      "150270 CONCEICAO DO ARAGUAIA,-\n",
      "150275 CONCORDIA DO PARA,-\n",
      "150295 ELDORADO DOS CARAJAS,-\n",
      "150304 FLORESTA DO ARAGUAIA,-\n",
      "150307 GARRAFAO DO NORTE,-\n",
      "150320 IGARAPE-ACU,-\n",
      "150345 IPIXUNA DO PARA,-\n",
      "150390 JURUTI,-\n",
      "150420 MARABA,-\n",
      "150430 MARACANA,-\n",
      "150440 MARAPANIM,-\n",
      "150442 MARITUBA,-\n",
      "150445 MEDICILANDIA,-\n",
      "150480 MONTE ALEGRE,-\n",
      "150506 NOVO REPARTIMENTO,-\n",
      "150543 OURILANDIA DO NORTE,-\n",
      "150548 PACAJA,-\n",
      "150550 PARAGOMINAS,-\n",
      "150553 PARAUAPEBAS,-\n",
      "150555 PAU D'ARCO,-\n",
      "150580 PORTEL,-\n",
      "150590 PORTO DE MOZ,-\n",
      "150613 REDENCAO,-\n",
      "150616 RIO MARIA,-\n",
      "150630 SALVATERRA,-\n",
      "150650 SANTA IZABEL DO PARA,-\n",
      "150658 SANTA MARIA DAS BARREIRAS,-\n",
      "150660 SANTA MARIA DO PARA,-\n",
      "150715 SAO DOMINGOS DO ARAGUAIA,-\n",
      "150730 SAO FELIX DO XINGU,-\n",
      "150747 SAO JOAO DE PIRABAS,-\n",
      "150750 SAO JOAO DO ARAGUAIA,-\n",
      "150760 SAO MIGUEL DO GUAMA,-\n",
      "150770 SAO SEBASTIAO DA BOA VISTA,-\n",
      "150797 TERRA SANTA,-\n",
      "150800 TOME-ACU,-\n",
      "150812 ULIANOPOLIS,-\n",
      "150840 XINGUARA,-\n",
      "160005 SERRA DO NAVIO,-\n",
      "160010 AMAPA,-\n",
      "160015 PEDRA BRANCA DO AMAPARI,-\n",
      "160020 CALCOENE,-\n",
      "160023 FERREIRA GOMES,-\n",
      "160027 LARANJAL DO JARI,-\n",
      "160030 MACAPA,-\n",
      "160040 MAZAGAO,-\n",
      "160050 OIAPOQUE,-\n",
      "160060 SANTANA,-\n",
      "170070 ALVORADA,-\n",
      "170100 ANANAS,-\n",
      "170190 ARAGUACEMA,-\n",
      "170200 ARAGUACU,-\n",
      "170210 ARAGUAINA,325\n",
      "170230 ARAPOEMA,-\n",
      "170240 ARRAIAS,-\n",
      "170255 AUGUSTINOPOLIS,-\n",
      "170550 COLINAS DO TOCANTINS,-\n",
      "170700 DIANOPOLIS,-\n",
      "170900 GOIATINS,-\n",
      "170930 GUARAI,-\n",
      "170950 GURUPI,-\n",
      "171320 MIRACEMA DO TOCANTINS,-\n",
      "171610 PARAISO DO TOCANTINS,-\n",
      "171620 PARANA,-\n",
      "171650 PEDRO AFONSO,-\n",
      "171790 PONTE ALTA DO TOCANTINS,-\n",
      "171820 PORTO NACIONAL,-\n",
      "172080 SITIO NOVO DO TOCANTINS,-\n",
      "172090 TAGUATINGA,-\n",
      "172100 PALMAS,-\n",
      "172120 TOCANTINOPOLIS,-\n",
      "172210 XAMBIOA,-\n",
      "210005 ACAILANDIA,-\n",
      "210020 ALCANTARA,-\n",
      "210043 ALTO ALEGRE DO MARANHAO,-\n",
      "210047 ALTO ALEGRE DO PINDARE,-\n",
      "210080 ANAPURUS,-\n",
      "210087 ARAGUANA,-\n",
      "210090 ARAIOSES,-\n",
      "210120 BACABAL,-\n",
      "210125 BACABEIRA,-\n",
      "210130 BACURI,-\n",
      "210140 BALSAS,-\n",
      "210160 BARRA DO CORDA,-\n",
      "210170 BARREIRINHAS,-\n",
      "210190 BEQUIMAO,-\n",
      "210210 BREJO,-\n",
      "210220 BURITI,-\n",
      "210230 BURITI BRAVO,-\n",
      "210232 BURITICUPU,-\n",
      "210250 CAJARI,-\n",
      "210260 CANDIDO MENDES,-\n",
      "210280 CAROLINA,-\n",
      "210290 CARUTAPERA,-\n",
      "210300 CAXIAS,-\n",
      "210320 CHAPADINHA,-\n",
      "210325 CIDELANDIA,-\n",
      "210330 CODO,-\n",
      "210340 COELHO NETO,-\n",
      "210350 COLINAS,-\n",
      "210355 CONCEICAO DO LAGO-ACU,-\n",
      "210360 COROATA,-\n",
      "210370 CURURUPU,-\n",
      "210390 DUQUE BACELAR,-\n",
      "210400 ESPERANTINOPOLIS,-\n",
      "210408 FERNANDO FALCAO,-\n",
      "210480 GRAJAU,-\n",
      "210490 GUIMARAES,-\n",
      "210520 IGARAPE GRANDE,-\n",
      "210530 IMPERATRIZ,-\n",
      "210535 ITAIPAVA DO GRAJAU,-\n",
      "210540 ITAPECURU MIRIM,-\n",
      "210547 JENIPAPO DOS VIEIRAS,-\n",
      "210550 JOAO LISBOA,-\n",
      "210570 LAGO DA PEDRA,-\n",
      "210580 LAGO DO JUNCO,-\n",
      "210594 LAGO DOS RODRIGUES,-\n",
      "210596 LAGOA GRANDE DO MARANHAO,-\n",
      "210610 LORETO,-\n",
      "210650 MATINHA,-\n",
      "210690 MONCAO,-\n",
      "210700 MONTES ALTOS,-\n",
      "210710 MORROS,-\n",
      "210720 NINA RODRIGUES,-\n",
      "210725 NOVA COLINAS,-\n",
      "210735 NOVA OLINDA DO MARANHAO,-\n",
      "210750 PACO DO LUMIAR,-\n",
      "210760 PALMEIRANDIA,-\n",
      "210780 PARNARAMA,-\n",
      "210790 PASSAGEM FRANCA,-\n",
      "210805 PAULINO NEVES,-\n",
      "210820 PEDREIRAS,-\n",
      "210825 PEDRO DO ROSARIO,-\n",
      "210830 PENALVA,-\n",
      "210840 PERI MIRIM,-\n",
      "210845 PERITORO,-\n",
      "210860 PINHEIRO,-\n",
      "210870 PIO XII,-\n",
      "210880 PIRAPEMAS,-\n",
      "210910 PRESIDENTE DUTRA,-\n",
      "210920 PRESIDENTE JUSCELINO,-\n",
      "210923 PRESIDENTE MEDICI,-\n",
      "210960 ROSARIO,-\n",
      "210980 SANTA HELENA,-\n",
      "210990 SANTA INES,-\n",
      "211000 SANTA LUZIA,-\n",
      "211003 SANTA LUZIA DO PARUA,-\n",
      "211010 SANTA QUITERIA DO MARANHAO,-\n",
      "211023 SANTANA DO MARANHAO,-\n",
      "211027 SANTO AMARO DO MARANHAO,-\n",
      "211040 SAO BENEDITO DO RIO PRETO,-\n",
      "211065 SAO DOMINGOS DO AZEITAO,-\n",
      "211070 SAO DOMINGOS DO MARANHAO,-\n",
      "211080 SAO FELIX DE BALSAS,-\n",
      "211085 SAO FRANCISCO DO BREJAO,-\n",
      "211107 SAO JOAO DO SOTER,-\n",
      "211120 SAO JOSE DE RIBAMAR,-\n",
      "211130 SAO LUIS,-\n",
      "211150 SAO MATEUS DO MARANHAO,-\n",
      "211153 SAO PEDRO DA AGUA BRANCA,-\n",
      "211157 SAO PEDRO DOS CRENTES,-\n",
      "211160 SAO RAIMUNDO DAS MANGABEIRAS,-\n",
      "211170 SAO VICENTE FERRER,-\n",
      "211172 SATUBINHA,-\n",
      "211174 SENADOR ALEXANDRE COSTA,-\n",
      "211178 SERRANO DO MARANHAO,-\n",
      "211180 SITIO NOVO,-\n",
      "211200 TASSO FRAGOSO,-\n",
      "211210 TIMBIRAS,-\n",
      "211220 TIMON,-\n",
      "211223 TRIZIDELA DO VALE,-\n",
      "211230 TUNTUM,-\n",
      "211240 TURIACU,-\n",
      "211250 TUTOIA,-\n",
      "211260 URBANO SANTOS,-\n",
      "211270 VARGEM GRANDE,-\n",
      "211280 VIANA,-\n",
      "211290 VITORIA DO MEARIM,-\n",
      "211400 ZE DOCA,-\n",
      "220010 AGRICOLANDIA,-\n",
      "220030 ALTO LONGA,-\n",
      "220040 ALTOS,-\n",
      "220050 AMARANTE,-\n",
      "220100 ARRAIAL,-\n",
      "220120 BARRAS,-\n",
      "220150 BATALHA,-\n",
      "220160 BENEDITINOS,-\n",
      "220190 BOM JESUS,-\n",
      "220220 CAMPO MAIOR,-\n",
      "220230 CANTO DO BURITI,-\n",
      "220260 CASTELO DO PIAUI,-\n",
      "220270 COCAL,-\n",
      "220290 CORRENTE,-\n",
      "220310 CRISTINO CASTRO,-\n",
      "220320 CURIMATA,-\n",
      "220330 DEMERVAL LOBAO,-\n",
      "220350 ELESBAO VELOSO,-\n",
      "220370 ESPERANTINA,-\n",
      "220430 FRONTEIRAS,-\n",
      "220450 GUADALUPE,-\n",
      "220470 INHUMA,-\n",
      "220480 IPIRANGA DO PIAUI,-\n",
      "220510 ITAUEIRA,-\n",
      "220520 JAICOS,-\n",
      "220540 JOAQUIM PIRES,-\n",
      "220550 JOSE DE FREITAS,-\n",
      "220570 LUIS CORREIA,-\n",
      "220580 LUZILANDIA,-\n",
      "220590 MANOEL EMIDIO,-\n",
      "220620 MIGUEL ALVES,-\n",
      "220650 MONSENHOR HIPOLITO,-\n",
      "220700 OEIRAS,-\n",
      "220730 PAES LANDIM,-\n",
      "220760 PARNAGUA,-\n",
      "220770 PARNAIBA,-\n",
      "220790 PEDRO II,-\n",
      "220800 PICOS,-\n",
      "220810 PIMENTEIRAS,-\n",
      "220820 PIO IX,-\n"
     ]
    }
   ],
   "source": [
    "for row in range(2379):\n",
    "    janelas_abertas = driver.window_handles\n",
    "    driver.switch_to.window(janelas_abertas[1])\n",
    "    print(driver.find_element(By.XPATH, f'/html/body/div/div/table[1]/tbody/tr[{row+1}]/td[1]').text + ',' + driver.find_element(By.XPATH, f'/html/body/div/div/table[1]/tbody/tr[{row+1}]/td[2]').text)"
   ]
  },
  {
   "cell_type": "code",
   "execution_count": null,
   "id": "84282f2c",
   "metadata": {},
   "outputs": [],
   "source": []
  }
 ],
 "metadata": {
  "kernelspec": {
   "display_name": "Python 3 (ipykernel)",
   "language": "python",
   "name": "python3"
  },
  "language_info": {
   "codemirror_mode": {
    "name": "ipython",
    "version": 3
   },
   "file_extension": ".py",
   "mimetype": "text/x-python",
   "name": "python",
   "nbconvert_exporter": "python",
   "pygments_lexer": "ipython3",
   "version": "3.11.5"
  }
 },
 "nbformat": 4,
 "nbformat_minor": 5
}
