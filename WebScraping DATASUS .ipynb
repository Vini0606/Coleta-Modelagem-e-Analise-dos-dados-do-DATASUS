{
 "cells": [
  {
   "cell_type": "code",
   "execution_count": null,
   "id": "d5dfb28c",
   "metadata": {},
   "outputs": [],
   "source": [
    "pip install selenium"
   ]
  },
  {
   "cell_type": "markdown",
   "id": "916d3199",
   "metadata": {},
   "source": [
    "# Bibliotecas"
   ]
  },
  {
   "cell_type": "code",
   "execution_count": null,
   "id": "46b0f641",
   "metadata": {},
   "outputs": [],
   "source": [
    "import pandas as pd"
   ]
  },
  {
   "cell_type": "code",
   "execution_count": null,
   "id": "5b30d354",
   "metadata": {},
   "outputs": [],
   "source": [
    "from selenium import webdriver\n",
    "from selenium.webdriver.chrome.service import Service\n",
    "from selenium.webdriver.common.by import By"
   ]
  },
  {
   "cell_type": "markdown",
   "id": "0b8a0bc5",
   "metadata": {},
   "source": [
    "# Criar Uma Instância do Chrome"
   ]
  },
  {
   "cell_type": "code",
   "execution_count": null,
   "id": "194b190a",
   "metadata": {},
   "outputs": [],
   "source": [
    "service = Service()\n",
    "\n",
    "options = webdriver.ChromeOptions()\n",
    "options.add_argument(\"--no-sandbox\")\n",
    "options.add_argument(\"--headless\")\n",
    "options.add_argument(\"--disable-gpu\")\n",
    "\n",
    "driver = webdriver.Chrome(service=service, options=options)"
   ]
  },
  {
   "cell_type": "markdown",
   "id": "45745003",
   "metadata": {},
   "source": [
    "# Coletar Dados"
   ]
  },
  {
   "cell_type": "markdown",
   "id": "3094ec9c",
   "metadata": {},
   "source": [
    "Navegar até o site do DATASUS"
   ]
  },
  {
   "cell_type": "code",
   "execution_count": null,
   "id": "012c3674",
   "metadata": {},
   "outputs": [],
   "source": [
    "url = 'http://tabnet.datasus.gov.br/cgi/deftohtm.exe?sih/cnv/spabr.def'\n",
    "\n",
    "driver.get(url)"
   ]
  },
  {
   "cell_type": "markdown",
   "id": "0656a996",
   "metadata": {},
   "source": [
    "Coletar Linhas da Consulta Gerada na Nova Aba e Concatená-las"
   ]
  },
  {
   "cell_type": "code",
   "execution_count": null,
   "id": "252f3350",
   "metadata": {},
   "outputs": [],
   "source": [
    "lin = \"\"\n",
    "arqs = []\n",
    "colunas_df = ['Município', \n",
    "           '01 Ações de promoção e prevenção em saúde',\n",
    "           '02 Procedimentos com finalidade diagnóstica',\n",
    "           '03 Procedimentos clínicos',\n",
    "           '04 Procedimentos cirúrgicos',\n",
    "           '05 Transplantes de orgãos, tecidos e células',\n",
    "           '06 Medicamentos',\n",
    "           '07 Órteses, próteses e materiais especiais',\n",
    "           '08 Ações complementares da atenção à saúde',\n",
    "           'QTD TOTAL']\n",
    "\n",
    "\n",
    "# Em \"Coluna\" Selecionar a opção \"Grupo Procedimento\"\n",
    "driver.find_element(By.XPATH, '//*[@id=\"C\"]/option[7]').click()\n",
    "\n",
    "# Deselecionar o Periodo\n",
    "driver.find_element(By.XPATH, f'//*[@id=\"A\"]/option[1]').click()\n",
    "\n",
    "for periodo in range(192):   \n",
    "    \n",
    "    # Selecionar Periodo\n",
    "    driver.find_element(By.XPATH, f'//*[@id=\"A\"]/option[{periodo+1}]').click()\n",
    "    data = driver.find_element(By.XPATH, f'//*[@id=\"A\"]/option[{periodo+1}]').text + ','\n",
    "    print('Coletando dados de', data)\n",
    "    \n",
    "    # Selecionar 'Colunas Separadas por \";\"'\n",
    "    driver.find_element(By.XPATH, '/html/body/div/div/center/div/form/div[4]/div[2]/div[1]/div[2]/input[3]').click()\n",
    "    \n",
    "    # Clicar em Mostrar\n",
    "    driver.find_element(By.XPATH, '/html/body/div/div/center/div/form/div[4]/div[2]/div[2]/input[1]').click()\n",
    "    \n",
    "    # Ir até nova aba\n",
    "    janelas_abertas = driver.window_handles\n",
    "    driver.switch_to.window(janelas_abertas[1])\n",
    "    \n",
    "    print('Gerando e Salvando Dataframe')\n",
    "    # Gerar e Salvar Dataframe\n",
    "    linhas = driver.find_element(By.XPATH, '/html/body/div/div/pre').text.split('\\n')\n",
    "    colunas = linhas[0].split(';')\n",
    "    dados = [linha.split(';') for linha in linhas[1:]]\n",
    "    df = pd.DataFrame(dados, columns=colunas)\n",
    "    df['Data'] = data\n",
    "    arqs.append(df)\n",
    "    \n",
    "    # Fechar Aba atual e navegar até primeira aba\n",
    "    driver.close()\n",
    "    janelas_abertas = driver.window_handles\n",
    "    driver.switch_to.window(janelas_abertas[0])    \n",
    "    \n",
    "    # Deselecionar Periodo\n",
    "    driver.find_element(By.XPATH, f'//*[@id=\"A\"]/option[{periodo+1}]').click()\n",
    "    \n",
    "#Concatenar arquivos\n",
    "df_resultado = pd.concat(arqs, ignore_index=True)\n",
    "\n",
    "# Exportar Arquivo\n",
    "df_resultado.to_csv('procedimentos_datasus_16_anos.csv', index=False)"
   ]
  },
  {
   "cell_type": "markdown",
   "id": "3ddba0c3",
   "metadata": {},
   "source": [
    "# Tratar Dados"
   ]
  },
  {
   "cell_type": "code",
   "execution_count": null,
   "id": "fbf19e0f",
   "metadata": {},
   "outputs": [],
   "source": [
    "df = pd.read_csv('procedimentos_datasus_16_anos.csv', low_memory=False)"
   ]
  },
  {
   "cell_type": "code",
   "execution_count": null,
   "id": "7793b59c",
   "metadata": {},
   "outputs": [],
   "source": [
    "df.info()"
   ]
  },
  {
   "cell_type": "code",
   "execution_count": null,
   "id": "dc4b91d0",
   "metadata": {},
   "outputs": [],
   "source": [
    "def remover_aspas(valor):\n",
    "    if isinstance(valor, str):\n",
    "        return valor.replace('\"', '')\n",
    "    else:\n",
    "        return valor\n",
    "\n",
    "# Aplica a função a cada elemento do DataFrame\n",
    "\n",
    "for coluna in df.columns:\n",
    "    if df[coluna].dtype != 'float64':\n",
    "        df[coluna] = df[coluna].apply(remover_aspas) "
   ]
  },
  {
   "cell_type": "code",
   "execution_count": null,
   "id": "b5dd0d33",
   "metadata": {},
   "outputs": [],
   "source": [
    "df.head()"
   ]
  },
  {
   "cell_type": "code",
   "execution_count": null,
   "id": "1b22fdf7",
   "metadata": {},
   "outputs": [],
   "source": [
    "df['Cod_Município'] = df['\"Município\"'].str.slice(0, 6)"
   ]
  },
  {
   "cell_type": "code",
   "execution_count": null,
   "id": "c604d0ae",
   "metadata": {},
   "outputs": [],
   "source": [
    "df.head()"
   ]
  },
  {
   "cell_type": "code",
   "execution_count": null,
   "id": "704b317d",
   "metadata": {},
   "outputs": [],
   "source": [
    "df['\"Município\"'] = df['\"Município\"'].str.slice(6)"
   ]
  },
  {
   "cell_type": "code",
   "execution_count": null,
   "id": "c4d3f787",
   "metadata": {},
   "outputs": [],
   "source": [
    "df.head()"
   ]
  },
  {
   "cell_type": "code",
   "execution_count": null,
   "id": "db0abe3d",
   "metadata": {},
   "outputs": [],
   "source": [
    "df[['Mês', 'Ano']] = df[\"Data\"].str.split('/', expand=True)"
   ]
  },
  {
   "cell_type": "code",
   "execution_count": null,
   "id": "131d03fa",
   "metadata": {},
   "outputs": [],
   "source": [
    "df.head()"
   ]
  },
  {
   "cell_type": "code",
   "execution_count": null,
   "id": "0db0eb72",
   "metadata": {},
   "outputs": [],
   "source": [
    "df['Ano'] = df['Ano'].apply(lambda x: x.replace(',', ''))"
   ]
  },
  {
   "cell_type": "code",
   "execution_count": null,
   "id": "d975c36d",
   "metadata": {},
   "outputs": [],
   "source": [
    "df.head()"
   ]
  },
  {
   "cell_type": "code",
   "execution_count": null,
   "id": "776ca332",
   "metadata": {},
   "outputs": [],
   "source": [
    "df = df.drop('Data', axis=1)"
   ]
  },
  {
   "cell_type": "code",
   "execution_count": null,
   "id": "fcf0e590",
   "metadata": {},
   "outputs": [],
   "source": [
    "df.head()"
   ]
  },
  {
   "cell_type": "code",
   "execution_count": null,
   "id": "bb936b92",
   "metadata": {},
   "outputs": [],
   "source": [
    "df.columns = [coluna.replace('\"', '') for coluna in df.columns]"
   ]
  },
  {
   "cell_type": "code",
   "execution_count": null,
   "id": "3a2b4c13",
   "metadata": {},
   "outputs": [],
   "source": [
    "df.columns"
   ]
  },
  {
   "cell_type": "code",
   "execution_count": null,
   "id": "9b894724",
   "metadata": {},
   "outputs": [],
   "source": [
    "df = df[['Ano','Mês','Cod_Município','Município','01 Ações de promoção e prevenção em saúde',\n",
    "       '02 Procedimentos com finalidade diagnóstica',\n",
    "       '03 Procedimentos clínicos', '04 Procedimentos cirúrgicos',\n",
    "       '05 Transplantes de orgãos, tecidos e células', '06 Medicamentos',\n",
    "       '07 Órteses, próteses e materiais especiais',\n",
    "       '08 Ações complementares da atenção à saúde', 'Total']]"
   ]
  },
  {
   "cell_type": "code",
   "execution_count": null,
   "id": "9750a664",
   "metadata": {},
   "outputs": [],
   "source": [
    "df.head()"
   ]
  },
  {
   "cell_type": "code",
   "execution_count": null,
   "id": "103bb8a8",
   "metadata": {},
   "outputs": [],
   "source": [
    "df.to_csv('procedimentos_datasus_16_anos_tratados.csv')"
   ]
  }
 ],
 "metadata": {
  "kernelspec": {
   "display_name": "Python 3 (ipykernel)",
   "language": "python",
   "name": "python3"
  },
  "language_info": {
   "codemirror_mode": {
    "name": "ipython",
    "version": 3
   },
   "file_extension": ".py",
   "mimetype": "text/x-python",
   "name": "python",
   "nbconvert_exporter": "python",
   "pygments_lexer": "ipython3",
   "version": "3.9.13"
  }
 },
 "nbformat": 4,
 "nbformat_minor": 5
}
