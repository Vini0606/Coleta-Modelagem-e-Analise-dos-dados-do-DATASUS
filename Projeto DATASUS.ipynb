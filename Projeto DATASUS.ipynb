{
 "cells": [
  {
   "cell_type": "code",
   "execution_count": null,
   "id": "0c53a5f1",
   "metadata": {},
   "outputs": [],
   "source": [
    "pip install selenium"
   ]
  },
  {
   "cell_type": "markdown",
   "id": "87a45df3",
   "metadata": {},
   "source": [
    "# Bibliotecas"
   ]
  },
  {
   "cell_type": "code",
   "execution_count": null,
   "id": "ce17c1cc",
   "metadata": {},
   "outputs": [],
   "source": [
    "import pandas as pd"
   ]
  },
  {
   "cell_type": "code",
   "execution_count": null,
   "id": "cded2544",
   "metadata": {},
   "outputs": [],
   "source": [
    "from selenium import webdriver\n",
    "from selenium.webdriver.chrome.service import Service\n",
    "from selenium.webdriver.common.by import By"
   ]
  },
  {
   "cell_type": "markdown",
   "id": "2d3706b9",
   "metadata": {},
   "source": [
    "# Criar Uma Instância do Chrome"
   ]
  },
  {
   "cell_type": "code",
   "execution_count": null,
   "id": "f79ec929",
   "metadata": {},
   "outputs": [],
   "source": [
    "service = Service()\n",
    "\n",
    "options = webdriver.ChromeOptions()\n",
    "\n",
    "driver = webdriver.Chrome(service=service, options=options)"
   ]
  },
  {
   "cell_type": "markdown",
   "id": "f240131d",
   "metadata": {},
   "source": [
    "# Coletar Dados"
   ]
  },
  {
   "cell_type": "markdown",
   "id": "c2a34eaf",
   "metadata": {},
   "source": [
    "Navegar até o site do DATASUS"
   ]
  },
  {
   "cell_type": "code",
   "execution_count": null,
   "id": "ca6cd08c",
   "metadata": {},
   "outputs": [],
   "source": [
    "url = 'http://tabnet.datasus.gov.br/cgi/deftohtm.exe?sih/cnv/spabr.def'\n",
    "\n",
    "driver.get(url)"
   ]
  },
  {
   "cell_type": "markdown",
   "id": "fbd9c6be",
   "metadata": {},
   "source": [
    "Coletar Linhas da Consulta Gerada na Nova Aba e Concatená-las"
   ]
  },
  {
   "cell_type": "code",
   "execution_count": null,
   "id": "a5e7ed5d",
   "metadata": {},
   "outputs": [],
   "source": [
    "lin = \"\"\n",
    "arqs = []\n",
    "colunas = ['Município', \n",
    "           '01 Ações de promoção e prevenção em saúde',\n",
    "           '02 Procedimentos com finalidade diagnóstica',\n",
    "           '03 Procedimentos clínicos',\n",
    "           '04 Procedimentos cirúrgicos',\n",
    "           '05 Transplantes de orgãos, tecidos e células',\n",
    "           '06 Medicamentos',\n",
    "           '07 Órteses, próteses e materiais especiais',\n",
    "           '08 Ações complementares da atenção à saúde',\n",
    "           'QTD TOTAL',\n",
    "           'vazio']\n",
    "\n",
    "\n",
    "# Em \"Coluna\" Selecionar a opção \"Grupo Procedimento\"\n",
    "driver.find_element(By.XPATH, '//*[@id=\"C\"]/option[7]').click()\n",
    "\n",
    "# Deselecionar o Periodo\n",
    "driver.find_element(By.XPATH, f'//*[@id=\"A\"]/option[1]').click()\n",
    "\n",
    "for periodo in range(192):   \n",
    "    arq = []\n",
    "    \n",
    "    # Selecionar Periodo\n",
    "    driver.find_element(By.XPATH, f'//*[@id=\"A\"]/option[{periodo+1}]').click()\n",
    "    data = driver.find_element(By.XPATH, f'//*[@id=\"A\"]/option[{periodo+1}]').text + ','\n",
    "    \n",
    "    # Clicar em Mostrar\n",
    "    driver.find_element(By.XPATH, '/html/body/div/div/center/div/form/div[4]/div[2]/div[2]/input[1]').click()\n",
    "    \n",
    "    # Ir até nova aba\n",
    "    janelas_abertas = driver.window_handles\n",
    "    driver.switch_to.window(janelas_abertas[1])\n",
    "    \n",
    "    # Ler os registros em Uma Lista de Listas\n",
    "    for row in range(2379):\n",
    "        for col in range(10):\n",
    "            lin += driver.find_element(By.XPATH, f'/html/body/div/div/table[1]/tbody/tr[{row+1}]/td[{col+1}]').text + ',' \n",
    "        arq.append(lin.split(','))  \n",
    "        lin = \"\"     \n",
    "    \n",
    "    # Fechar Aba atual e navegar até primeira aba\n",
    "    driver.close()\n",
    "    janelas_abertas = driver.window_handles\n",
    "    driver.switch_to.window(janelas_abertas[0])    \n",
    "    \n",
    "    # Deselecionar Periodo\n",
    "    driver.find_element(By.XPATH, f'//*[@id=\"A\"]/option[{periodo+1}]').click()\n",
    "    \n",
    "    # Ler e guardar dataframe com outros periodos\n",
    "    df = pd.DataFrame(arq, columns=colunas)\n",
    "    df['Data'] = data\n",
    "    arqs.append(df)\n",
    "    \n",
    "#Concatenar arquivos\n",
    "df_resultado = pd.concat(arqs, ignore_index=True)\n",
    "\n",
    "# Exportar Arquivo\n",
    "df_resultado.to_csv('procedimentos_datasus_16_anos.csv', index=False)"
   ]
  }
 ],
 "metadata": {
  "kernelspec": {
   "display_name": "Python 3 (ipykernel)",
   "language": "python",
   "name": "python3"
  },
  "language_info": {
   "codemirror_mode": {
    "name": "ipython",
    "version": 3
   },
   "file_extension": ".py",
   "mimetype": "text/x-python",
   "name": "python",
   "nbconvert_exporter": "python",
   "pygments_lexer": "ipython3",
   "version": "3.9.13"
  }
 },
 "nbformat": 4,
 "nbformat_minor": 5
}
