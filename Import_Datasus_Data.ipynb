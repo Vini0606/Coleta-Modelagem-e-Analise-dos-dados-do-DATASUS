{
  "nbformat": 4,
  "nbformat_minor": 0,
  "metadata": {
    "colab": {
      "provenance": [],
      "collapsed_sections": [
        "INYhC40RaQAx",
        "SsSzUVKGaUgs"
      ]
    },
    "kernelspec": {
      "name": "python3",
      "display_name": "Python 3"
    },
    "language_info": {
      "name": "python"
    }
  },
  "cells": [
    {
      "cell_type": "code",
      "execution_count": null,
      "metadata": {
        "id": "QUiMT600Wox3"
      },
      "outputs": [],
      "source": [
        "pip install psycopg2"
      ]
    },
    {
      "cell_type": "code",
      "source": [
        "from google.colab import drive\n",
        "\n",
        "# Montar o Google Drive\n",
        "drive.mount('/content/drive')"
      ],
      "metadata": {
        "colab": {
          "base_uri": "https://localhost:8080/"
        },
        "id": "lie9uWAaYvP2",
        "outputId": "b30c33cc-3f54-4b13-826c-8760aef8e17c"
      },
      "execution_count": null,
      "outputs": [
        {
          "output_type": "stream",
          "name": "stdout",
          "text": [
            "Mounted at /content/drive\n"
          ]
        }
      ]
    },
    {
      "cell_type": "code",
      "source": [
        "import pandas as pd\n",
        "import psycopg2\n",
        "from sqlalchemy import create_engine"
      ],
      "metadata": {
        "id": "4PIy4nT-ZIPY"
      },
      "execution_count": null,
      "outputs": []
    },
    {
      "cell_type": "markdown",
      "source": [
        "## Carregar Arquivo com QTDs"
      ],
      "metadata": {
        "id": "INYhC40RaQAx"
      }
    },
    {
      "cell_type": "code",
      "source": [
        "# Configurações de conexão com o banco de dados PostgreSQL\n",
        "dbname = \"2222120010_Vinicius\"\n",
        "user = \"2222120010_Vinicius\"\n",
        "password = \"2222120010_Vinicius\"\n",
        "host = \"dataiesb.iesbtech.com.br\"\n",
        "\n",
        "# Criar uma conexão com o banco de dados usando SQLAlchemy\n",
        "engine = create_engine(f'postgresql+psycopg2://{user}:{password}@{host}/{dbname}')\n",
        "\n",
        "# Caminho do arquivo CSV a ser importado\n",
        "arquivo_datasus_qtd = '/content/drive/MyDrive/Datasus/DATASUS_16_ANOS_QTD.csv'\n",
        "\n",
        "# Ler o arquivo CSV usando o Pandas\n",
        "df = pd.read_csv(arquivo_datasus_qtd)\n",
        "\n",
        "# Nome da tabela no banco de dados\n",
        "nome_tabela = 'DATASUS_16_ANOS_QTD'\n",
        "\n",
        "# Salvar o DataFrame no banco de dados PostgreSQL\n",
        "df.to_sql(nome_tabela, engine, if_exists='replace', index=False)\n",
        "\n",
        "# Fechar a conexão\n",
        "engine.dispose()\n"
      ],
      "metadata": {
        "id": "chXzd30CWxAD"
      },
      "execution_count": null,
      "outputs": []
    },
    {
      "cell_type": "markdown",
      "source": [
        "## Carregar Arquivo com Valores"
      ],
      "metadata": {
        "id": "SsSzUVKGaUgs"
      }
    },
    {
      "cell_type": "code",
      "source": [
        "# Configurações de conexão com o banco de dados PostgreSQL\n",
        "dbname = \"2222120010_Vinicius\"\n",
        "user = \"2222120010_Vinicius\"\n",
        "password = \"2222120010_Vinicius\"\n",
        "host = \"dataiesb.iesbtech.com.br\"\n",
        "\n",
        "# Criar uma conexão com o banco de dados usando SQLAlchemy\n",
        "engine = create_engine(f'postgresql+psycopg2://{user}:{password}@{host}/{dbname}')\n",
        "\n",
        "# Caminho do arquivo CSV a ser importado\n",
        "arquivo_datasus_valor = '/content/drive/MyDrive/Datasus/DATASUS_16_ANOS_VALOR.csv'\n",
        "\n",
        "# Ler o arquivo CSV usando o Pandas\n",
        "df = pd.read_csv(arquivo_datasus_valor)\n",
        "\n",
        "# Nome da tabela no banco de dados\n",
        "nome_tabela = 'DATASUS_16_ANOS_VALOR'\n",
        "\n",
        "# Salvar o DataFrame no banco de dados PostgreSQL\n",
        "df.to_sql(nome_tabela, engine, if_exists='replace', index=False)\n",
        "\n",
        "# Fechar a conexão\n",
        "engine.dispose()"
      ],
      "metadata": {
        "id": "Zm_dWJ0eae26"
      },
      "execution_count": null,
      "outputs": []
    }
  ]
}